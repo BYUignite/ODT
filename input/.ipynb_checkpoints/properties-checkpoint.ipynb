{
 "cells": [
  {
   "cell_type": "code",
   "execution_count": 111,
   "metadata": {
    "collapsed": true
   },
   "outputs": [],
   "source": [
    "import cantera as ct\n",
    "import numpy as np\n",
    "from scipy.optimize import fsolve"
   ]
  },
  {
   "cell_type": "code",
   "execution_count": 117,
   "metadata": {
    "collapsed": false
   },
   "outputs": [
    {
     "name": "stdout",
     "output_type": "stream",
     "text": [
      "Zpilot = 0.0569693\n",
      "Zfuel  = 1\n",
      "Zair   = 0\n",
      "\n",
      "X_air:\n",
      "\tO2  = 0.206964\n",
      "\tN2  = 0.771478\n",
      "\tH2O = 0.0120195\n",
      "\tCO2 = 0.00031049\n",
      "\tAR  = 0.00922801\n",
      "X_fuel:\n",
      "\tC2H4= 1.0\n"
     ]
    }
   ],
   "source": [
    "gas = ct.Solution(\"gri30.xml\")\n",
    "xair = np.zeros(gas.n_species)\n",
    "xair[gas.species_index(\"N2\")]  = 0.78084\n",
    "xair[gas.species_index(\"O2\")]  = 0.209476\n",
    "xair[gas.species_index(\"AR\")]  = 0.00934\n",
    "xair[gas.species_index(\"CO2\")] = 0.000314\n",
    "gas.X = xair\n",
    "xair = gas.X\n",
    "\n",
    "P = 1E5\n",
    "RH = 0.45\n",
    "Psat = 2671  # (at 22 oC, interpolated from Cengel thermo book)\n",
    "Phi = 0.9\n",
    "\n",
    "xh2o = RH*Psat/P\n",
    "xair = xair * (1-xh2o)\n",
    "xair[gas.species_index(\"H2O\")] = xh2o\n",
    "gas.X = xair\n",
    "\n",
    "Mair = gas.mean_molecular_weight\n",
    "\n",
    "MC2H4 = gas.molecular_weights[gas.species_index(\"C2H4\")] \n",
    "Zst = MC2H4/(MC2H4 + 3*Mair/xair[gas.species_index(\"O2\")])\n",
    "\n",
    "Zpilot = Zst*Phi/(Zst*Phi + 1 - Zst)\n",
    "Zfuel  = 1\n",
    "Zair   = 0\n",
    "print(\"Zpilot = %g\" %Zpilot)\n",
    "print(\"Zfuel  = %g\" %Zfuel)\n",
    "print(\"Zair   = %g\\n\" %Zair)\n",
    "print(\"X_air:\")\n",
    "print(\"\\tO2  = %g\" %(xair[gas.species_index(\"O2\")]))\n",
    "print(\"\\tN2  = %g\" %(xair[gas.species_index(\"N2\")]))\n",
    "print(\"\\tH2O = %g\" %(xair[gas.species_index(\"H2O\")]))\n",
    "print(\"\\tCO2 = %g\" %(xair[gas.species_index(\"CO2\")]+2.55E-7))\n",
    "print(\"\\tAR  = %g\" %(xair[gas.species_index(\"AR\")]))\n",
    "print(\"X_fuel:\")\n",
    "print(\"\\tC2H4= 1.0\")\n"
   ]
  },
  {
   "cell_type": "code",
   "execution_count": 113,
   "metadata": {
    "collapsed": false
   },
   "outputs": [
    {
     "data": {
      "text/plain": [
       "[<matplotlib.lines.Line2D at 0x10fa21c50>]"
      ]
     },
     "execution_count": 113,
     "metadata": {},
     "output_type": "execute_result"
    },
    {
     "data": {
      "image/png": "[encoded data removed]",
      "text/plain": [
       "<matplotlib.figure.Figure at 0x10f8eb7b8>"
      ]
     },
     "metadata": {},
     "output_type": "display_data"
    }
   ],
   "source": [
    "r_f = 0.0032/2\n",
    "r_p = 0.0152/2\n",
    "\n",
    "r_dom = r_f*10\n",
    "dth   = r_f/10\n",
    "x = np.linspace(-r_dom,r_dom, 1000)\n",
    "\n",
    "p1 = 0.5*(1.0+np.tanh(2.0/dth*(x+r_f))) * 0.5*(1+np.tanh(2/dth*(r_f-x)))\n",
    "p1 = p1*(1-Zpilot)\n",
    "p2 = 0.5*(1.0+np.tanh(2.0/dth*(x+r_p))) * 0.5*(1+np.tanh(2/dth*(r_p-x)))\n",
    "p2 = p2*(Zpilot)\n",
    "Zprof = p1+p2\n",
    "plt.plot(x,Zprof)\n"
   ]
  },
  {
   "cell_type": "code",
   "execution_count": 114,
   "metadata": {
    "collapsed": false
   },
   "outputs": [
    {
     "name": "stdout",
     "output_type": "stream",
     "text": [
      "Tpcc = 2362.75 K\n",
      "U_p = 6.97171 m/s\n"
     ]
    }
   ],
   "source": [
    "U_f = 54.7\n",
    "U_a = 0.635\n",
    "mdot_p = 10.63/60/1000\n",
    "\n",
    "#-------- Get pilot velocity\n",
    "# Mass flow rate is 10.63 g/min\n",
    "# Use mdot = rho*A*V to get V.\n",
    "# Get rho from products of complete combustion, since that is what the code will use.\n",
    "\n",
    "gas.X = xair\n",
    "y = gas.Y\n",
    "y[gas.species_index(\"C2H4\")] = Zpilot/(1-Zpilot)     # mass fuel for 1 kg of air\n",
    "gas.Y = y\n",
    "Xpilot = gas.X\n",
    "\n",
    "gas.TPY = 295, P, y\n",
    "hR = gas.enthalpy_mass\n",
    "\n",
    "xpcc = np.zeros(gas.n_species)\n",
    "xpcc[gas.species_index(\"AR\")]   = Xpilot[gas.species_index(\"AR\")]\n",
    "xpcc[gas.species_index(\"N2\")]   = Xpilot[gas.species_index(\"N2\")]\n",
    "xpcc[gas.species_index(\"C2H4\")] = 0\n",
    "xpcc[gas.species_index(\"H2O\")]  = Xpilot[gas.species_index(\"H2O\")] + \\\n",
    "                                  2*Xpilot[gas.species_index(\"C2H4\")]\n",
    "xpcc[gas.species_index(\"CO2\")]  = Xpilot[gas.species_index(\"CO2\")] + \\\n",
    "                                  2*Xpilot[gas.species_index(\"C2H4\")]\n",
    "xpcc[gas.species_index(\"O2\")]   = Xpilot[gas.species_index(\"O2\")] - \\\n",
    "                                  3*Xpilot[gas.species_index(\"C2H4\")]\n",
    "\n",
    "def F(Tp) :\n",
    "    gas.TPX = Tp, P, xpcc\n",
    "    return gas.enthalpy_mass - hR\n",
    "\n",
    "Tp = fsolve(F, 2000)\n",
    "print(\"Tpcc = %g K\" %Tp)\n",
    "\n",
    "gas.TPX = Tp, P, xpcc\n",
    "rho_pilot = gas.density\n",
    "\n",
    "Ap = np.pi * (r_p**2 - r_f**2)\n",
    "\n",
    "U_p = mdot_p / rho_pilot / Ap\n",
    "print(\"U_p = %g m/s\" %U_p)"
   ]
  },
  {
   "cell_type": "code",
   "execution_count": 115,
   "metadata": {
    "collapsed": false
   },
   "outputs": [
    {
     "data": {
      "text/plain": [
       "[<matplotlib.lines.Line2D at 0x10fb16ef0>]"
      ]
     },
     "execution_count": 115,
     "metadata": {},
     "output_type": "execute_result"
    },
    {
     "data": {
      "image/png": "[encoded data removed]",
      "text/plain": [
       "<matplotlib.figure.Figure at 0x10f633ef0>"
      ]
     },
     "metadata": {},
     "output_type": "display_data"
    }
   ],
   "source": [
    "p1 = 0.5*(1.0+np.tanh(2.0/dth*(x+r_f))) * 0.5*(1+np.tanh(2/dth*(r_f-x)))\n",
    "p1 = p1*(U_f-U_p-U_a)\n",
    "p2 = 0.5*(1.0+np.tanh(2.0/dth*(x+r_p))) * 0.5*(1+np.tanh(2/dth*(r_p-x)))\n",
    "p2 = p2*(U_p-U_a)\n",
    "Uprof = p1+p2 + U_a\n",
    "plt.plot(x,Uprof)"
   ]
  },
  {
   "cell_type": "code",
   "execution_count": null,
   "metadata": {
    "collapsed": true
   },
   "outputs": [],
   "source": []
  }
 ],
 "metadata": {
  "kernelspec": {
   "display_name": "Python 3",
   "language": "python",
   "name": "python3"
  },
  "language_info": {
   "codemirror_mode": {
    "name": "ipython",
    "version": 3
   },
   "file_extension": ".py",
   "mimetype": "text/x-python",
   "name": "python",
   "nbconvert_exporter": "python",
   "pygments_lexer": "ipython3",
   "version": "3.5.1"
  }
 },
 "nbformat": 4,
 "nbformat_minor": 0
}
