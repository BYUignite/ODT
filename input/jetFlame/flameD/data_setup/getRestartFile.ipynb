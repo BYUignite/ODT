{
 "cells": [
  {
   "cell_type": "markdown",
   "metadata": {},
   "source": [
    "## Setup restart file for Flame D initialization"
   ]
  },
  {
   "cell_type": "code",
   "execution_count": 4,
   "metadata": {
    "collapsed": true
   },
   "outputs": [],
   "source": [
    "import cantera as ct\n",
    "import numpy as np\n",
    "from scipy.optimize import fsolve\n",
    "from scipy.interpolate   import interp1d"
   ]
  },
  {
   "cell_type": "markdown",
   "metadata": {},
   "source": [
    "### Velocity profile"
   ]
  },
  {
   "cell_type": "code",
   "execution_count": 16,
   "metadata": {
    "collapsed": false
   },
   "outputs": [
    {
     "name": "stdout",
     "output_type": "stream",
     "text": [
      "rp =  0.0091\n",
      "Ap =  0.00021944024685324707\n",
      "rp =  0.0108505760216\n",
      "Ap =  0.00032916037028\n"
     ]
    }
   ],
   "source": [
    "ngrid = 2000\n",
    "dj = 0.0072\n",
    "dp = 0.0182\n",
    "Ld = dj*100\n",
    "rj = dj/2\n",
    "rp = dp/2\n",
    "print(\"rp = \", rp)\n",
    "print(\"Ap = \", np.pi*(rp**2-rj**2))\n",
    "\n",
    "Fac = 1.5\n",
    "rp = np.sqrt(rj**2 + Fac*(rp**2-rj**2))\n",
    "dp = 2*rp\n",
    "print(\"rp = \", rp)\n",
    "print(\"Ap = \", np.pi*(rp**2-rj**2))\n",
    "\n",
    "bc = np.loadtxt('exp_U_bc.dat')\n",
    "rbc = bc[:,0] * dj\n",
    "rbc = np.append(rbc,Ld/2)\n",
    "Ubc = bc[:,1]\n",
    "Ubc = np.append(Ubc,0.9)\n",
    "rbc = np.hstack([-np.flipud(rbc),rbc])\n",
    "Ubc = np.hstack([ np.flipud(Ubc),Ubc])\n",
    "\n",
    "dx = Ld/ngrid\n",
    "r   = np.linspace(-Ld/2+dx/2,Ld/2-dx/2,ngrid)\n",
    "rf  = np.linspace(-Ld/2,Ld/2-dx,ngrid)\n",
    "finterp = interp1d(rbc,Ubc)\n",
    "U   = finterp(r)\n",
    "V = np.zeros(ngrid)\n",
    "W = np.zeros(ngrid)\n",
    "\n",
    "#plt.plot(r,U,'-')\n",
    "#plt.xlim([-0.05,0.05])"
   ]
  },
  {
   "cell_type": "markdown",
   "metadata": {},
   "source": [
    "### Composition profile"
   ]
  },
  {
   "cell_type": "code",
   "execution_count": 17,
   "metadata": {
    "collapsed": false
   },
   "outputs": [
    {
     "name": "stdout",
     "output_type": "stream",
     "text": [
      "0.2861105963649436\n"
     ]
    }
   ],
   "source": [
    "gas = ct.Solution(\"ch4red.xml\")\n",
    "\n",
    "xj  = \"CH4:0.25, O2:0.1575, N2:0.5925\"\n",
    "xp  = \"N2:0.7342, O2:0.054, O:7.47E-4, H2:1.29E-4, H:2.48E-5, H2O:0.0942, CO:4.07E-3, CO2:0.1098, OH:0.0028\"\n",
    "xair = \"N2:0.79, O2:0.21\"\n",
    "\n",
    "Tj = 294\n",
    "Tp = 1880\n",
    "Tair = 291\n",
    "\n",
    "P  = float(int(0.993*101325))\n",
    "\n",
    "WO = gas.atomic_weight(0)\n",
    "WH = gas.atomic_weight(1)\n",
    "WC = gas.atomic_weight(2)\n",
    "WN = gas.atomic_weight(3)\n",
    "\n",
    "gas.TPX = Tj,P,xj\n",
    "hj = gas.enthalpy_mass\n",
    "rhoj = gas.density\n",
    "muj  = gas.viscosity\n",
    "xj = gas.X\n",
    "yj = gas.Y\n",
    "yHj = gas.elemental_mass_fraction(1)\n",
    "yCj = gas.elemental_mass_fraction(2)\n",
    "\n",
    "gas.TPX = Tair,P,xair\n",
    "hair = gas.enthalpy_mass\n",
    "rhoair = gas.density\n",
    "muair  = gas.viscosity\n",
    "xair = gas.X\n",
    "yair = gas.Y\n",
    "yHair = gas.elemental_mass_fraction(1)\n",
    "yCair = gas.elemental_mass_fraction(2)\n",
    "\n",
    "gas.TPX = Tp,P,xp\n",
    "hp = gas.enthalpy_mass\n",
    "rhop = gas.density\n",
    "mup  = gas.viscosity\n",
    "xp = gas.X\n",
    "yp = gas.Y\n",
    "yHp = gas.elemental_mass_fraction(1)\n",
    "yCp = gas.elemental_mass_fraction(2)\n",
    "mixfp = (0.5*(yHp-yHair)/WH + 2*(yCp-yCair)/WC)/ \\\n",
    "        (0.5*(yHj-yHair)/WH + 2*(yCj-yCair)/WC)\n",
    "\n",
    "\n",
    "\n",
    "x = np.zeros((ngrid,gas.n_species))\n",
    "y = np.zeros((ngrid,gas.n_species))\n",
    "T = np.zeros(ngrid)\n",
    "h = np.zeros(ngrid)\n",
    "rho = np.zeros(ngrid)\n",
    "mu  = np.zeros(ngrid)\n",
    "mixf = np.zeros(ngrid)\n",
    "\n",
    "for i in range(ngrid):\n",
    "    if np.abs(r[i]) <= rj:\n",
    "        x[i,:] = xj\n",
    "        y[i,:] = yj\n",
    "        T[i]   = Tj\n",
    "        h[i]   = hj\n",
    "        rho[i] = rhoj\n",
    "        mu[i]  = muj\n",
    "        mixf[i] = 1\n",
    "    elif np.abs(r[i]) > rj and np.abs(r[i]) <= rp:\n",
    "        x[i,:] = xp\n",
    "        y[i,:] = yp\n",
    "        T[i]   = Tp\n",
    "        h[i]   = hp\n",
    "        rho[i] = rhop\n",
    "        mu[i]  = mup\n",
    "        mixf[i] = mixfp\n",
    "    else:\n",
    "        x[i,:] = xair\n",
    "        y[i,:] = yair\n",
    "        T[i]   = Tair\n",
    "        h[i]   = hair\n",
    "        rho[i] = rhoair\n",
    "        mu[i]  = muair\n",
    "        mixf[i] = 0\n",
    "print(mixfp)"
   ]
  },
  {
   "cell_type": "code",
   "execution_count": 18,
   "metadata": {
    "collapsed": false
   },
   "outputs": [],
   "source": [
    "#plt.plot(r,mixf,'.-')\n",
    "#plt.xlim([-0.02,0.02])\n",
    "#plt.ylim([0,1.1])"
   ]
  },
  {
   "cell_type": "markdown",
   "metadata": {},
   "source": [
    "### Write Restart File"
   ]
  },
  {
   "cell_type": "code",
   "execution_count": 19,
   "metadata": {
    "collapsed": false
   },
   "outputs": [],
   "source": [
    "chi = np.zeros(ngrid)\n",
    "hr = np.zeros(ngrid)\n",
    "data = np.vstack([r, rf, rho, mu, U, V, W, T, mixf, chi, hr, y.T, h]).T\n",
    "\n",
    "header = \"# time = 0\\n# Grid points = \" + str(ngrid) + \"\\n# Domain Size = \" + str(Ld) + \"\\n\"\n",
    "header += \"# Pressure (Pa) = \" + str(int(P)) + \"\\n\"\n",
    "header += \"# 1_pos        2_posf          3_rho          4_dvisc        5_uvel         6_vvel         7_wvel         8_temp         9_mixf         10_chi         11_hr          \"\n",
    "for i in range(12, 12+gas.n_species):\n",
    "    header += str(i) + \"_\" + gas.species_name(i-12) + \"         \"\n",
    "header += \"     \" + str(12+gas.n_species) + \"_h\"\n",
    "\n",
    "np.savetxt(\"restart.dat\", data, header=header, comments=\"\", fmt=\"%14.7E\")\n"
   ]
  },
  {
   "cell_type": "markdown",
   "metadata": {},
   "source": [
    "### Dump times"
   ]
  },
  {
   "cell_type": "code",
   "execution_count": 20,
   "metadata": {
    "collapsed": false
   },
   "outputs": [
    {
     "name": "stdout",
     "output_type": "stream",
     "text": [
      "0.0072   # 1.0\n",
      "0.0144   # 2.0\n",
      "0.0216   # 3.0\n",
      "0.036   # 5.0\n",
      "0.054   # 7.5\n",
      "0.072   # 10.0\n",
      "0.108   # 15.0\n",
      "0.144   # 20.0\n",
      "0.18   # 25.0\n",
      "0.216   # 30.0\n",
      "0.252   # 35.0\n",
      "0.288   # 40.0\n",
      "0.324   # 45.0\n",
      "0.36   # 50.0\n",
      "0.396   # 55.0\n",
      "0.432   # 60.0\n",
      "0.468   # 65.0\n",
      "0.504   # 70.0\n",
      "0.54   # 75.0\n",
      "0.576   # 80.0\n"
     ]
    }
   ],
   "source": [
    "xoverd = np.arange(5,85,5)\n",
    "dmb = np.array([1,2,3,7.5])\n",
    "xoverd = np.hstack([xoverd,dmb])\n",
    "xoverd = np.sort(xoverd)\n",
    "x = xoverd * dj\n",
    "for a in x:\n",
    "    print(a, \"  #\", a/dj)"
   ]
  },
  {
   "cell_type": "code",
   "execution_count": null,
   "metadata": {
    "collapsed": false
   },
   "outputs": [],
   "source": []
  },
  {
   "cell_type": "code",
   "execution_count": null,
   "metadata": {
    "collapsed": true
   },
   "outputs": [],
   "source": []
  }
 ],
 "metadata": {
  "kernelspec": {
   "display_name": "Python 3",
   "language": "python",
   "name": "python3"
  },
  "language_info": {
   "codemirror_mode": {
    "name": "ipython",
    "version": 3
   },
   "file_extension": ".py",
   "mimetype": "text/x-python",
   "name": "python",
   "nbconvert_exporter": "python",
   "pygments_lexer": "ipython3",
   "version": "3.5.1"
  }
 },
 "nbformat": 4,
 "nbformat_minor": 0
}
