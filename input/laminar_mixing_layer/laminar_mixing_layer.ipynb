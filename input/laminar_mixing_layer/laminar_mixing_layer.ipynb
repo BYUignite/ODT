{
 "cells": [
  {
   "cell_type": "markdown",
   "metadata": {},
   "source": [
    "### Laminar mixing layer solution\n",
    "\n",
    "See Schlichting p. 184 (7th edition), or p. 175 (8th edition). \n",
    "\n",
    "For the mixing layer, $\\eta = y\\sqrt{U_1/\\nu x}$, where $y$ is the direction of shear, x is downstream. At $\\eta = +\\infty$, $u=U_1$, and at $\\eta = -\\infty$, $u=U_2$.\n",
    "\n",
    "\n",
    "Solve $$ff^{\\prime\\prime} + 2f^{\\prime\\prime\\prime}=0.$$\n",
    "$f = f(\\eta)$, and $f^{\\prime}(\\eta) = u/U_1$.\n",
    "\n",
    "Reduce this to the following three coupled ODEs:\n",
    "$$f^{\\prime}=h,$$\n",
    "$$h^{\\prime}=k,$$\n",
    "$$k^{\\prime}=-\\frac{1}{2}fk.$$\n",
    "With boundary conditions:\n",
    "$$h(-\\infty)=U_2/U_1,$$\n",
    "$$\\lim_{\\eta\\to\\infty}(\\eta - f) = -\\frac{U_2}{U_1}\\lim_{\\eta\\to -\\infty}\\left(\\eta\\frac{U_2}{U_1}-f\\right).$$\n",
    "$$h(+\\infty)=1.$$\n",
    "\n",
    "The second boundary condition is given in Schlichting's 8th edition. In the 7th edition, $f(0)=0$ is given (which implies that the zero streamline doesn't move.)\n",
    "\n",
    "Solve with a shooting method.\n",
    "\n",
    "Comparison to the spatial ODT is given below. The agreement is good for $U_2/U_1\\gt 0.5$, as shown, but there is a difference between the curves for lower values of $U_2/U_1$. This is evidenced only as a shift in eta (the curves will line up if shifted).\n"
   ]
  },
  {
   "cell_type": "code",
   "execution_count": 28,
   "metadata": {
    "collapsed": false
   },
   "outputs": [
    {
     "name": "stdout",
     "output_type": "stream",
     "text": [
      "k(-oo) = 2.23429e-07\n",
      "h(-oo) = 0.5\n",
      "f(-oo) = -5.18565\n",
      "Fshoot should be 0: -6.07736e-12, 5.55334e-13\n"
     ]
    }
   ],
   "source": [
    "import numpy as np\n",
    "from scipy.integrate import odeint\n",
    "from scipy.optimize import fsolve\n",
    "import matplotlib.pyplot as plt\n",
    "%matplotlib inline\n",
    "\n",
    "L = -10\n",
    "R = 10 \n",
    "U2U1 = 0.50\n",
    "\n",
    "def Fode(khf, eta):\n",
    "        rates = np.empty(3)\n",
    "        k = khf[0]\n",
    "        h = khf[1]\n",
    "        f = khf[2]\n",
    "        rates[0] = -0.5*f*k\n",
    "        rates[1] = k\n",
    "        rates[2] = h\n",
    "        return rates\n",
    "\n",
    "def Fshoot(k0f0) :\n",
    "    \n",
    "    k0 = k0f0[0]\n",
    "    h0 = U2U1\n",
    "    f0 = k0f0[1]\n",
    "    \n",
    "    etaVals = np.array([L,0,R])\n",
    "    \n",
    "    khf_L = np.array([k0, h0, f0])\n",
    "    khf_sol = odeint(Fode, khf_L, etaVals)\n",
    "    \n",
    "    F = np.empty(2)\n",
    "    #F[0] = khf_sol[1,2])\n",
    "    F[0] = R - khf_sol[2,2] + U2U1*(L*U2U1-khf_sol[0,2])\n",
    "    F[1] = khf_sol[2, 1] - 1.0\n",
    "    return F\n",
    "\n",
    "k0f0 = np.array([0,-5.0 ])\n",
    "#k0f0 = np.array([0,-3.40])\n",
    "k0f0_sol = fsolve(Fshoot, k0f0)\n",
    "F = Fshoot(k0f0_sol)\n",
    "print(\"k(-oo) = %g\" %k0f0_sol[0])\n",
    "print(\"h(-oo) = %g\" %U2U1)\n",
    "print(\"f(-oo) = %g\" %k0f0_sol[1])\n",
    "print(\"Fshoot should be 0: %g, %g\" %(F[0], F[1]))"
   ]
  },
  {
   "cell_type": "code",
   "execution_count": 50,
   "metadata": {
    "collapsed": false
   },
   "outputs": [
    {
     "name": "stdout",
     "output_type": "stream",
     "text": [
      "k(+oo) = -4.20621e-10\n",
      "h(+oo) = 1\n",
      "f(+oo) = 10.0928\n"
     ]
    },
    {
     "data": {
      "image/png": "[encoded data removed]",
      "text/plain": [
       "<Figure size 432x288 with 1 Axes>"
      ]
     },
     "metadata": {
      "needs_background": "light"
     },
     "output_type": "display_data"
    }
   ],
   "source": [
    "etaVals = np.linspace(L,R,21)\n",
    "    \n",
    "khf0 = np.array([k0f0_sol[0], U2U1, k0f0_sol[1]])\n",
    "khf = odeint(Fode, khf0, etaVals)\n",
    "print(\"k(+oo) = %g\" %khf[-1,0])\n",
    "print(\"h(+oo) = %g\" %khf[-1,1])\n",
    "print(\"f(+oo) = %g\" %khf[-1,2])\n",
    "\n",
    "uU1 = khf[:,1]\n",
    "\n",
    "plt.plot(uU1,etaVals,'-')\n",
    "plt.xlim([0.0,1.5])\n",
    "plt.xlabel(r\"$u/U_1$\", fontsize=16)\n",
    "plt.ylabel(r\"$\\eta$\", fontsize=16);"
   ]
  },
  {
   "cell_type": "markdown",
   "metadata": {},
   "source": [
    "### Compare to ODT solution"
   ]
  },
  {
   "cell_type": "code",
   "execution_count": 51,
   "metadata": {
    "collapsed": false
   },
   "outputs": [
    {
     "data": {
      "image/png": "[encoded data removed]",
      "text/plain": [
       "<Figure size 432x288 with 1 Axes>"
      ]
     },
     "metadata": {
      "needs_background": "light"
     },
     "output_type": "display_data"
    }
   ],
   "source": [
    "data_path = \"../../data/ML/data/data_00000/\"     # SET THIS APPROPRIATELY\n",
    "flist = [f\"{data_path}dmp_0000{i}.dat\" for i in range(2,9,2)]\n",
    "times = [0.02, 0.04, 0.06, 0.08]\n",
    "\n",
    "plt.plot(uU1, etaVals,'o')\n",
    "plt.xlim([0,1.5])\n",
    "plt.ylim([-6,6])\n",
    "for i in range(len(flist)):\n",
    "    data = np.loadtxt(flist[i])\n",
    "    y = data[:,0]\n",
    "    u = data[:,4]\n",
    "    eta_odt = y*np.sqrt(1/1/times[i])\n",
    "    uU1_odt = u/1\n",
    "    plt.plot(uU1_odt, eta_odt+0.0, 'k-')\n",
    "plt.xlabel(r\"$u/U_1$\", fontsize=16)\n",
    "plt.ylabel(r\"$\\eta$\", fontsize=16)\n",
    "plt.legend(('Exact', 'ODT'), frameon=False);"
   ]
  },
  {
   "cell_type": "code",
   "execution_count": null,
   "metadata": {},
   "outputs": [],
   "source": []
  }
 ],
 "metadata": {
  "kernelspec": {
   "display_name": "Python 3",
   "language": "python",
   "name": "python3"
  },
  "language_info": {
   "codemirror_mode": {
    "name": "ipython",
    "version": 3
   },
   "file_extension": ".py",
   "mimetype": "text/x-python",
   "name": "python",
   "nbconvert_exporter": "python",
   "pygments_lexer": "ipython3",
   "version": "3.7.2"
  }
 },
 "nbformat": 4,
 "nbformat_minor": 2
}
